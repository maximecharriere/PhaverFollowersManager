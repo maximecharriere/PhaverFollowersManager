{
 "cells": [
  {
   "cell_type": "markdown",
   "metadata": {},
   "source": [
    "# Import"
   ]
  },
  {
   "cell_type": "code",
   "execution_count": 28,
   "metadata": {},
   "outputs": [],
   "source": [
    "import requests\n",
    "import json\n",
    "import pandas as pd\n",
    "import os"
   ]
  },
  {
   "cell_type": "markdown",
   "metadata": {},
   "source": [
    "# Constants & Parameters"
   ]
  },
  {
   "cell_type": "code",
   "execution_count": 2,
   "metadata": {},
   "outputs": [],
   "source": [
    "PHAVER_GRAPHQL_ENDPOINT = os.getenv(\"PHAVER_GRAPHQL_ENDPOINT\")\n",
    "PHAVER_PROFILE_ID = os.getenv(\"PHAVER_PROFILE_ID\")\n",
    "\n",
    "FIREBASE_TOKEN_URL = os.getenv(\"FIREBASE_API_URL\") + os.getenv(\"FIREBASE_API_KEY\")\n",
    "FIREBASE_REFRESH_TOKEN = os.getenv(\"FIREBASE_REFRESH_TOKEN\")\n",
    "\n",
    "LIMIT_PER_REQUEST = 1000\n",
    "MAX_COMMENTS_REQUESTED = 5000"
   ]
  },
  {
   "cell_type": "markdown",
   "metadata": {},
   "source": [
    "# Load GrapgQL Query"
   ]
  },
  {
   "cell_type": "code",
   "execution_count": 36,
   "metadata": {},
   "outputs": [],
   "source": [
    "# Utility function to load a GraphQL query or fragment from a file\n",
    "def load_graphql_file(file_path):\n",
    "    with open(file_path, 'r') as file:\n",
    "        return file.read()\n",
    "    \n",
    "# Load fragments and query from their respective files\n",
    "COMMENTS_QUERY = load_graphql_file('graphql/queries/CommentsQuery.gql')"
   ]
  },
  {
   "cell_type": "markdown",
   "metadata": {},
   "source": [
    "# Access Token Functions"
   ]
  },
  {
   "cell_type": "code",
   "execution_count": 4,
   "metadata": {},
   "outputs": [],
   "source": [
    "def request_access_token():\n",
    "    payload = {\n",
    "        \"grantType\": \"refresh_token\",\n",
    "        \"refreshToken\": FIREBASE_REFRESH_TOKEN\n",
    "    }\n",
    "\n",
    "    response = requests.post(FIREBASE_TOKEN_URL, json=payload)\n",
    "    response.raise_for_status()\n",
    "    access_data = response.json()\n",
    "    return access_data['access_token']"
   ]
  },
  {
   "cell_type": "markdown",
   "metadata": {},
   "source": [
    "# Request Token"
   ]
  },
  {
   "cell_type": "code",
   "execution_count": 5,
   "metadata": {},
   "outputs": [],
   "source": [
    "access_token = request_access_token()"
   ]
  },
  {
   "cell_type": "markdown",
   "metadata": {},
   "source": [
    "# Comments Request"
   ]
  },
  {
   "cell_type": "code",
   "execution_count": 39,
   "metadata": {},
   "outputs": [],
   "source": [
    "# GraphQL API URL and headers\n",
    "\n",
    "headers = {\n",
    "    \"Authorization\": \"Bearer \" + access_token,\n",
    "    \"Content-Type\": \"application/json\"\n",
    "}\n",
    "\n",
    "query = COMMENTS_QUERY\n",
    "variables = {\n",
    "    \"topLevelCommentsWhere\": {\n",
    "        \"publishedAt\": {\n",
    "            \"_lte\": \"2024-09-18T08:23:31.063Z\"\n",
    "        },\n",
    "        \"recommendationId\": {\n",
    "            \"_eq\": \"fcb35573-ed36-4282-b8eb-d4f16d84f289\"\n",
    "        },\n",
    "        \"parentId\": {\n",
    "            \"_is_null\": True\n",
    "        }\n",
    "    },\n",
    "    \"offset\": 0,  # Start offset\n",
    "    \"limit\": LIMIT_PER_REQUEST  # Limit per request\n",
    "}\n",
    "\n"
   ]
  },
  {
   "cell_type": "code",
   "execution_count": 40,
   "metadata": {},
   "outputs": [],
   "source": [
    "all_comments = []"
   ]
  },
  {
   "cell_type": "code",
   "execution_count": 41,
   "metadata": {},
   "outputs": [
    {
     "name": "stdout",
     "output_type": "stream",
     "text": [
      "Fetched and saved 10 comments to comments.json\n"
     ]
    }
   ],
   "source": [
    "# Function to send GraphQL request\n",
    "def fetch_comments(offset):\n",
    "    variables['offset'] = offset\n",
    "    response = requests.post(PHAVER_GRAPHQL_ENDPOINT, json={'query': query, 'variables': variables}, headers=headers)\n",
    "    response.raise_for_status()\n",
    "    data = response.json()\n",
    "    if 'errors' in data:\n",
    "        raise Exception(data['errors'])\n",
    "    return data['data']['comments']\n",
    "\n",
    "# Fetch and store comments in batches of 100 until we get 1000\n",
    "for offset in range(0, MAX_COMMENTS_REQUESTED, LIMIT_PER_REQUEST):\n",
    "    comments_batch = fetch_comments(offset)\n",
    "    all_comments.extend(comments_batch)\n",
    "\n",
    "# Save comments to a JSON file\n",
    "with open('data/phaver_x_cyber_comments_list.json', 'w') as f:\n",
    "    json.dump(all_comments, f, indent=4)\n",
    "\n",
    "print(f\"Fetched and saved {len(all_comments)} comments to comments.json\")\n"
   ]
  },
  {
   "cell_type": "code",
   "execution_count": 23,
   "metadata": {},
   "outputs": [],
   "source": [
    "# Convert to Pandas DataFrame\n",
    "all_comments_df = pd.DataFrame(all_comments)\n",
    "\n",
    "# Normalize nested 'profile' field to extract 'username'\n",
    "all_comments_df['username'] = all_comments_df['profile'].apply(lambda x: x['username'] if x else None)\n",
    "all_comments_df = all_comments_df.drop(columns=['profile'])"
   ]
  },
  {
   "cell_type": "code",
   "execution_count": 24,
   "metadata": {},
   "outputs": [],
   "source": [
    "# Filtered out duplicate comments with the same \"id\"\n",
    "filtered_comments_df = all_comments_df.drop_duplicates(subset=['id'])\n",
    "\n",
    "# Filter out comments that do not contain 'cyber' (case insensitive)\n",
    "no_cyber_comments_df = filtered_comments_df[~filtered_comments_df['content'].str.contains('cyber', case=False)]\n",
    "\n",
    "# Save the filtered comments in a separate DataFrame\n",
    "filtered_comments_df = filtered_comments_df[filtered_comments_df['content'].str.contains('cyber', case=False)]"
   ]
  },
  {
   "cell_type": "code",
   "execution_count": 25,
   "metadata": {},
   "outputs": [],
   "source": [
    "# Sort the DataFrame by the 'createdAt' column\n",
    "filtered_comments_df = filtered_comments_df.sort_values(by='createdAt')"
   ]
  },
  {
   "cell_type": "code",
   "execution_count": 26,
   "metadata": {},
   "outputs": [],
   "source": [
    "# Reset the index to incremental numbers\n",
    "filtered_comments_df = filtered_comments_df.reset_index(drop=True)"
   ]
  },
  {
   "cell_type": "code",
   "execution_count": 29,
   "metadata": {},
   "outputs": [],
   "source": [
    "filtered_comments_df.to_excel('data/phaver_x_cyber_comments_list.xlsx', index=True, engine='xlsxwriter')"
   ]
  },
  {
   "cell_type": "markdown",
   "metadata": {},
   "source": [
    "# Search Someone"
   ]
  },
  {
   "cell_type": "code",
   "execution_count": 30,
   "metadata": {},
   "outputs": [
    {
     "data": {
      "text/html": [
       "<div>\n",
       "<style scoped>\n",
       "    .dataframe tbody tr th:only-of-type {\n",
       "        vertical-align: middle;\n",
       "    }\n",
       "\n",
       "    .dataframe tbody tr th {\n",
       "        vertical-align: top;\n",
       "    }\n",
       "\n",
       "    .dataframe thead th {\n",
       "        text-align: right;\n",
       "    }\n",
       "</style>\n",
       "<table border=\"1\" class=\"dataframe\">\n",
       "  <thead>\n",
       "    <tr style=\"text-align: right;\">\n",
       "      <th></th>\n",
       "      <th>id</th>\n",
       "      <th>content</th>\n",
       "      <th>createdAt</th>\n",
       "      <th>username</th>\n",
       "    </tr>\n",
       "  </thead>\n",
       "  <tbody>\n",
       "  </tbody>\n",
       "</table>\n",
       "</div>"
      ],
      "text/plain": [
       "Empty DataFrame\n",
       "Columns: [id, content, createdAt, username]\n",
       "Index: []"
      ]
     },
     "execution_count": 30,
     "metadata": {},
     "output_type": "execute_result"
    }
   ],
   "source": [
    "filtered_comments_df[filtered_comments_df['username'] == 'maximecharriere']"
   ]
  },
  {
   "cell_type": "code",
   "execution_count": null,
   "metadata": {},
   "outputs": [],
   "source": []
  }
 ],
 "metadata": {
  "kernelspec": {
   "display_name": ".venv",
   "language": "python",
   "name": "python3"
  },
  "language_info": {
   "codemirror_mode": {
    "name": "ipython",
    "version": 3
   },
   "file_extension": ".py",
   "mimetype": "text/x-python",
   "name": "python",
   "nbconvert_exporter": "python",
   "pygments_lexer": "ipython3",
   "version": "3.12.2"
  }
 },
 "nbformat": 4,
 "nbformat_minor": 2
}
