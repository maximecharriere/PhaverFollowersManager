{
 "cells": [
  {
   "cell_type": "markdown",
   "metadata": {},
   "source": [
    "# Import"
   ]
  },
  {
   "cell_type": "code",
   "execution_count": null,
   "metadata": {},
   "outputs": [],
   "source": [
    "import pandas as pd\n",
    "import os\n",
    "from dotenv import load_dotenv\n",
    "from utils import *\n",
    "from pathlib import Path\n",
    "\n",
    "load_dotenv()"
   ]
  },
  {
   "cell_type": "markdown",
   "metadata": {},
   "source": [
    "# Constants & Parameters"
   ]
  },
  {
   "cell_type": "code",
   "execution_count": null,
   "metadata": {},
   "outputs": [],
   "source": [
    "LIMIT_PER_REQUEST = 1000\n",
    "MAX_FOLLOWINGS_REQUESTED = 5000\n",
    "project_dir = Path(__file__).resolve().parents[1]"
   ]
  },
  {
   "cell_type": "markdown",
   "metadata": {},
   "source": [
    "# Request Access Token"
   ]
  },
  {
   "cell_type": "code",
   "execution_count": null,
   "metadata": {},
   "outputs": [],
   "source": [
    "print(\"Request Access Token\")\n",
    "print(\"-------------------------\")\n",
    "access_token = request_access_token()\n",
    "access_token_string = \"Bearer \" + access_token\n",
    "\n",
    "addToClipBoard(access_token_string)\n",
    "print(\"Access Token: \", access_token_string)"
   ]
  },
  {
   "cell_type": "markdown",
   "metadata": {},
   "source": [
    "# Request Followings"
   ]
  },
  {
   "cell_type": "code",
   "execution_count": null,
   "metadata": {},
   "outputs": [],
   "source": [
    "print(\"Request All Followings\")\n",
    "print(\"-------------------------\")\n",
    "# Fetch all followings for the given profile ID\n",
    "followings = get_all_followings(os.getenv(\"PHAVER_PROFILE_ID\"), LIMIT_PER_REQUEST, MAX_FOLLOWINGS_REQUESTED, access_token)\n",
    "\n",
    "# Get the points for each following\n",
    "# followings = get_all_points(followings, access_token)\n",
    "\n",
    "# Save the followings to followings.json\n",
    "save_to_json(followings, 'data/followings.json')\n",
    "\n",
    "print(f\"Successfully saved {len(followings)} followings to 'data/followings.json'.\")\n",
    "\n",
    "## Convert JSON to DataFrame\n",
    "# Flatten the data\n",
    "followings_df = flatten_followings(followings)\n",
    "\n",
    "# Add the current datetime to the DataFrame\n",
    "followings_df['updatedAt'] = pd.Timestamp.now(tz='UTC')\n",
    "\n",
    "# Add a tempo column to mark unfollowed users\n",
    "followings_df['tempo_unfollowed'] = False\n",
    "\n",
    "# Save the DataFrame to a CSV file\n",
    "followings_df.to_csv(project_dir / 'data/followings.csv', index=False)\n"
   ]
  },
  {
   "cell_type": "markdown",
   "metadata": {},
   "source": [
    "# Load Followings Dataframe"
   ]
  },
  {
   "cell_type": "code",
   "execution_count": null,
   "metadata": {},
   "outputs": [],
   "source": [
    "print(\"\\nLoad Followings Dataframe\")\n",
    "print(\"-------------------------\")\n",
    "followings_df = pd.read_csv(project_dir / 'data/followings.csv')\n",
    "print(f\"Loaded {len(followings_df)} followings.\")"
   ]
  },
  {
   "cell_type": "markdown",
   "metadata": {},
   "source": [
    "# Filter profiles to unfollow"
   ]
  },
  {
   "cell_type": "code",
   "execution_count": null,
   "metadata": {},
   "outputs": [],
   "source": [
    "####################\n",
    "# Filter profiles to unfollow\n",
    "####################\n",
    "print(\"\\nFilter profiles to unfollow\")\n",
    "print(\"-------------------------\")\n",
    "profiles_to_unfollow_df = followings_df[\n",
    "    (followings_df['followerCount'] < 3000) & \n",
    "    (followings_df['credLevel'] < 3) &\n",
    "    (followings_df['badge'].isnull()) &\n",
    "    (followings_df['verification'].isnull()) &\n",
    "    # (followings_df['lensProfile.isUserFollowing'] != True) &\n",
    "    (followings_df['tempo_unfollowed'] == False) \n",
    "]\n",
    "print(f\"Found {len(profiles_to_unfollow_df)} profiles to unfollow.\")"
   ]
  },
  {
   "cell_type": "markdown",
   "metadata": {},
   "source": [
    "# Unfollow profiles"
   ]
  },
  {
   "cell_type": "code",
   "execution_count": null,
   "metadata": {},
   "outputs": [],
   "source": [
    "error_count = 0\n",
    "error_limit = 5\n",
    "\n",
    "try:\n",
    "    # Unfollow Profiles\n",
    "    for index, following in profiles_to_unfollow_df.head(120).iterrows():\n",
    "        try:\n",
    "            unfollow_user(os.getenv(\"PHAVER_PROFILE_ID\"), following['id'], 'all', access_token)\n",
    "        except ValueError as e:\n",
    "            print(f\"{e.__class__.__name__} on Profile `{following['username']}` : {e}\")\n",
    "            if error_count >= error_limit:\n",
    "                break\n",
    "            else:\n",
    "                error_count+=1\n",
    "                continue\n",
    "        except UnfollowError as e:\n",
    "            print(f\"{e.__class__.__name__} on Profile `{following['username']}` : {e}\")\n",
    "            if e.stopProcess:\n",
    "                break\n",
    "            else : \n",
    "                if error_count >= error_limit:\n",
    "                    break\n",
    "                else:\n",
    "                    error_count+=1\n",
    "                    continue\n",
    "        print(f\"Unfollowed {following['username']}\")\n",
    "        followings_df.loc[index, 'tempo_unfollowed'] = True\n",
    "finally:\n",
    "    # Save modified following list\n",
    "    followings_df.to_csv(project_dir / 'data/followings.csv', index=False)\n",
    "    print(\"Saved followings list.\")"
   ]
  },
  {
   "cell_type": "code",
   "execution_count": null,
   "metadata": {},
   "outputs": [],
   "source": []
  }
 ],
 "metadata": {
  "kernelspec": {
   "display_name": ".venv",
   "language": "python",
   "name": "python3"
  },
  "language_info": {
   "codemirror_mode": {
    "name": "ipython",
    "version": 3
   },
   "file_extension": ".py",
   "mimetype": "text/x-python",
   "name": "python",
   "nbconvert_exporter": "python",
   "pygments_lexer": "ipython3",
   "version": "3.11.5"
  }
 },
 "nbformat": 4,
 "nbformat_minor": 2
}
